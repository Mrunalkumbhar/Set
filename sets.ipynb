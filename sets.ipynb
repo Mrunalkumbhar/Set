{
 "cells": [
  {
   "cell_type": "code",
   "execution_count": 1,
   "metadata": {},
   "outputs": [
    {
     "name": "stdout",
     "output_type": "stream",
     "text": [
      "{'marker', 'pencil', 'pen'}   <class 'set'>\n"
     ]
    }
   ],
   "source": [
    "# sets are created with {} - curly brackets\n",
    "# sets are unique valued, we can't have repitition\n",
    "# they don't follow any order of insertion\n",
    "#set does not follow alphabatical order\n",
    "#set is mutable\n",
    "s = {'pen','pen','pencil','marker'}\n",
    "print(s,\" \",type(s))"
   ]
  },
  {
   "cell_type": "code",
   "execution_count": 2,
   "metadata": {},
   "outputs": [
    {
     "ename": "TypeError",
     "evalue": "'set' object is not subscriptable",
     "output_type": "error",
     "traceback": [
      "\u001b[1;31m---------------------------------------------------------------------------\u001b[0m",
      "\u001b[1;31mTypeError\u001b[0m                                 Traceback (most recent call last)",
      "\u001b[1;32m<ipython-input-2-c6e599f38748>\u001b[0m in \u001b[0;36m<module>\u001b[1;34m\u001b[0m\n\u001b[0;32m      1\u001b[0m \u001b[1;31m#sets don't have indexing, slicing and stepping\u001b[0m\u001b[1;33m\u001b[0m\u001b[1;33m\u001b[0m\u001b[1;33m\u001b[0m\u001b[0m\n\u001b[1;32m----> 2\u001b[1;33m \u001b[0mprint\u001b[0m\u001b[1;33m(\u001b[0m\u001b[0ms\u001b[0m\u001b[1;33m[\u001b[0m\u001b[1;36m1\u001b[0m\u001b[1;33m]\u001b[0m\u001b[1;33m)\u001b[0m\u001b[1;33m\u001b[0m\u001b[1;33m\u001b[0m\u001b[0m\n\u001b[0m",
      "\u001b[1;31mTypeError\u001b[0m: 'set' object is not subscriptable"
     ]
    }
   ],
   "source": [
    "#sets don't have indexing, slicing and stepping\n",
    "print(s[1])"
   ]
  },
  {
   "cell_type": "code",
   "execution_count": 3,
   "metadata": {},
   "outputs": [
    {
     "name": "stdout",
     "output_type": "stream",
     "text": [
      "{'marker', 'pencil', 'paper pin', 'pen'}\n"
     ]
    }
   ],
   "source": [
    "#Set functions\n",
    "# add an element\n",
    "s.add('paper pin')\n",
    "print(s)"
   ]
  },
  {
   "cell_type": "code",
   "execution_count": 4,
   "metadata": {},
   "outputs": [
    {
     "name": "stdout",
     "output_type": "stream",
     "text": [
      "{'duster', 'charger', 'pen'}\n",
      "{'marker', 'pencil', 'paper pin', 'pen'}\n",
      "{'duster', 'marker', 'paper pin', 'pen', 'pencil', 'charger'}\n"
     ]
    }
   ],
   "source": [
    "# Let's create another set for union operation\n",
    "s1 = {'duster','pen','charger'}\n",
    "print(s1)\n",
    "print(s)\n",
    "print(s1.union(s))\n"
   ]
  },
  {
   "cell_type": "code",
   "execution_count": 5,
   "metadata": {},
   "outputs": [
    {
     "name": "stdout",
     "output_type": "stream",
     "text": [
      "{'duster', 'charger', 'pen'}\n",
      "{'marker', 'pencil', 'paper pin', 'pen'}\n",
      "{'pen'}\n"
     ]
    }
   ],
   "source": [
    "#Let us perform intersection\n",
    "print(s1)\n",
    "print(s)\n",
    "print(s.intersection(s1))"
   ]
  },
  {
   "cell_type": "code",
   "execution_count": 6,
   "metadata": {},
   "outputs": [
    {
     "name": "stdout",
     "output_type": "stream",
     "text": [
      "set()\n"
     ]
    }
   ],
   "source": [
    "# clear the set\n",
    "s.clear()\n",
    "print(s)"
   ]
  },
  {
   "cell_type": "code",
   "execution_count": null,
   "metadata": {},
   "outputs": [],
   "source": []
  }
 ],
 "metadata": {
  "kernelspec": {
   "display_name": "Python 3",
   "language": "python",
   "name": "python3"
  },
  "language_info": {
   "codemirror_mode": {
    "name": "ipython",
    "version": 3
   },
   "file_extension": ".py",
   "mimetype": "text/x-python",
   "name": "python",
   "nbconvert_exporter": "python",
   "pygments_lexer": "ipython3",
   "version": "3.8.3"
  }
 },
 "nbformat": 4,
 "nbformat_minor": 4
}
